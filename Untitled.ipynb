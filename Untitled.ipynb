{
 "cells": [
  {
   "cell_type": "code",
   "execution_count": 1,
   "metadata": {},
   "outputs": [],
   "source": [
    "import nptdms as tdms\n",
    "import numpy as np\n",
    "import pandas as pd\n",
    "\n",
    "import matplotlib.pyplot as plt\n",
    "\n",
    "import os\n",
    "import time"
   ]
  },
  {
   "cell_type": "code",
   "execution_count": null,
   "metadata": {},
   "outputs": [],
   "source": [
    "dir_temp = \"./temperature_csv/\" \n",
    "dir_volt = \"./voltage_current_csv/\" \n",
    "prefix_temp = \"Temperature-\"\n",
    "prefix_volt = \"Voltage-Current-\"\n",
    "time_str = \"2019-12-09T17-58-55\"\n",
    "suffix = \".csv\"\n",
    "dir_save = \"./temperature_voltage_current_csv/\"\n",
    "\n",
    "file_err = []\n",
    "for (_,_,files) in os.walk(dir_volt):\n",
    "    for file in files:\n",
    "        time_str = file[-23:-4]\n",
    "        # read file\n",
    "        try:\n",
    "            file_temp = dir_temp+prefix_temp+time_str+suffix\n",
    "            file_volt = dir_volt+prefix_volt+time_str+suffix\n",
    "            volt_df = pd.read_csv(file_volt,index_col = 0)\n",
    "            temp_df = pd.read_csv(file_temp,index_col = 0)\n",
    "        except:\n",
    "            print(\"read error: \",time_str)\n",
    "            file_err.append(file)\n",
    "            \n",
    "        try:\n",
    "            # 去除不规整的volt数据\n",
    "            select_df = volt_df.dropna(axis = 0)\n",
    "            l = select_df.index.values\n",
    "            m= np.where(l[1:]-l[:-1]==51)\n",
    "            volt_df = volt_df.loc[l[m[0][0]]:,:]\n",
    "        except:\n",
    "            print(\"select error: \",time_str)\n",
    "            file_err.append(file)\n",
    "        \n",
    "        try:\n",
    "            # 重新定义时间\n",
    "            volt_df[\"t\"] = volt_df[\"timestamp\"].round(1)\n",
    "            volt_df.drop([\"timestamp\",\"time\"],axis = 1,inplace = True )\n",
    "            temp_df[\"t\"] = temp_df[\"timestamp\"].round(1)\n",
    "            temp_df.drop([\"timestamp\",\"time\"],axis = 1,inplace = True )\n",
    "        except:\n",
    "            print(\"def t error: \",time_str)\n",
    "            file_err.append(file)\n",
    "        \n",
    "        try:\n",
    "            # merge temp to voltage\n",
    "            merge_df = pd.merge(volt_df,temp_df,on = \"t\", how = \"left\")\n",
    "            # save\n",
    "            merge_df.to_csv(file_volt,index = False)\n",
    "            # merge voltage to temperature\n",
    "            merge_df = pd.merge(temp_df,volt_df,on = \"t\", how = \"left\")\n",
    "            # save\n",
    "            merge_df.to_csv(file_temp,index = False)\n",
    "        except:\n",
    "            print(\"merge error: \",time_str)\n",
    "            file_err.append(file)\n",
    "            \n",
    "err_file_df = pd.DataFrame()\n",
    "err_file_df[\"file\"] = file_err\n",
    "err_file_df.to_csv(\"./temp/error_files.txt\",index = False)"
   ]
  },
  {
   "cell_type": "code",
   "execution_count": null,
   "metadata": {},
   "outputs": [],
   "source": []
  },
  {
   "cell_type": "code",
   "execution_count": null,
   "metadata": {},
   "outputs": [],
   "source": []
  },
  {
   "cell_type": "code",
   "execution_count": null,
   "metadata": {},
   "outputs": [],
   "source": []
  },
  {
   "cell_type": "code",
   "execution_count": null,
   "metadata": {},
   "outputs": [],
   "source": []
  },
  {
   "cell_type": "code",
   "execution_count": null,
   "metadata": {},
   "outputs": [],
   "source": []
  }
 ],
 "metadata": {
  "kernelspec": {
   "display_name": "tf-torch-gpu-p36",
   "language": "python",
   "name": "tf-torch-gpu-p36"
  },
  "language_info": {
   "codemirror_mode": {
    "name": "ipython",
    "version": 3
   },
   "file_extension": ".py",
   "mimetype": "text/x-python",
   "name": "python",
   "nbconvert_exporter": "python",
   "pygments_lexer": "ipython3",
   "version": "3.6.2"
  }
 },
 "nbformat": 4,
 "nbformat_minor": 2
}
