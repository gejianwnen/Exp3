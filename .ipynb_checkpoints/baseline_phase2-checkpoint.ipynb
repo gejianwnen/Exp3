{
 "cells": [
  {
   "cell_type": "raw",
   "metadata": {},
   "source": [
    "# IGBT Accelerated Aging Test Phase2\n",
    "# in phase one, we only measure:  the temperature of IGBT3\n",
    "                       the voltage between IGBT3_1 Collector to IGBT3_1 Emitter(not specific Uce)\n",
    "                       as for the current ???\n",
    "# Experiment began in 2019/12/09\n",
    "# set conditions as follow: DC current, 30A,43.7V source outpout, Tjmax = 170deg Cel, Tspan = 70deg Cel, 40 second a period\n",
    "# conditions were modified in 2019/12/12\n",
    "# after that conditions were: 35.5A,50.3V DC 15 second\n",
    "                    90 to 170 deg Cel \n",
    "# IGBT break down in 2019/12/19 for unknown reason \n",
    "# some possible reasons are :  short circuit( gate to collector)\n",
    "                     temperature sensor bresk down\n",
    "                     IGBT chip error"
   ]
  },
  {
   "cell_type": "code",
   "execution_count": 1,
   "metadata": {},
   "outputs": [],
   "source": [
    "import nptdms as tdms\n",
    "import numpy as np\n",
    "import pandas as pd\n",
    "\n",
    "import matplotlib.pyplot as plt\n",
    "\n",
    "import os\n",
    "import time"
   ]
  },
  {
   "cell_type": "code",
   "execution_count": 2,
   "metadata": {},
   "outputs": [],
   "source": [
    "# user lib\n",
    "from myMedFilter import *\n",
    "\n"
   ]
  },
  {
   "cell_type": "code",
   "execution_count": 3,
   "metadata": {},
   "outputs": [],
   "source": [
    "IS_TRANSFER = False\n",
    "IS_MERGE    = False\n",
    "IS_CUT      = True\n"
   ]
  },
  {
   "cell_type": "markdown",
   "metadata": {},
   "source": [
    "# transfer TDMS to CSV"
   ]
  },
  {
   "cell_type": "code",
   "execution_count": 4,
   "metadata": {},
   "outputs": [],
   "source": [
    "if IS_TRANSFER:\n",
    "# voltage \n",
    "    dir_file = \"./电流电压/\" \n",
    "    filename = \"Voltage-Current-2019-11-19T08-55-08\"\n",
    "    suffix = \".tdms\"\n",
    "    dir_save = \"./voltage_current_csv/phase2/\"\n",
    "    group_name = 'Voltage-Current'\n",
    "\n",
    "\n",
    "    for (_,_,files) in os.walk(dir_file):\n",
    "        df_file = pd.DataFrame()\n",
    "        df_file['file'] = files\n",
    "        df_file.to_csv(\"./temp/voltage_files.txt\",index = False)\n",
    "        for file in files:\n",
    "            if file[-5:]==\".tdms\":\n",
    "                filename = file[:-5]\n",
    "                file_read = dir_file+filename+suffix\n",
    "                file_save = dir_save+filename+\".csv\"\n",
    "                try:\n",
    "                    # read file\n",
    "                    tdms_file = tdms.TdmsFile(file_read)\n",
    "                    # transform tdms into dataframe\n",
    "                    df = tdms_file.as_dataframe()\n",
    "                    # change the columns name\n",
    "                    df.columns = [\"time\",\"Ic\",\"U_IGBT3_1\",\"U_IGBT3_2\",\"Uce\"]\n",
    "\n",
    "                    # drop some nansense columns\n",
    "        #             df.drop([\"N0\",\"N1\"],axis = 1,inplace = True)\n",
    "                    try:\n",
    "                        df.dropna(axis = 0,inplace = True)\n",
    "                    except:\n",
    "                        pass\n",
    "                    # transform the string time into timestamp\n",
    "                    timestamp = []\n",
    "                    for t in df.time:\n",
    "                        if t != \"\":\n",
    "                            timestamp.append(time.mktime(time.strptime(t[0:-7],\"%Y/%m/%dT%H:%M:%S\"))+ float(t[-7:]))\n",
    "                        else:\n",
    "                            timestamp.append(0)\n",
    "                    df[\"timestamp\" ]= timestamp\n",
    "                    df[\"timestamp\"].replace(0,np.NaN,inplace = True)\n",
    "                    # save file\n",
    "                    df.to_csv(file_save)\n",
    "                except:\n",
    "                    print(file)\n",
    "                    pass\n",
    "      "
   ]
  },
  {
   "cell_type": "code",
   "execution_count": 5,
   "metadata": {},
   "outputs": [],
   "source": [
    "if IS_TRANSFER:\n",
    "    # temperature\n",
    "    dir_file = \"./温度/\" \n",
    "    filename = \"Temperature-2019-11-19T08-55-08\"\n",
    "    suffix = \".tdms\"\n",
    "    dir_save = \"./temperature_csv/phase2/\"\n",
    "\n",
    "\n",
    "    for (_,_,files) in os.walk(dir_file):\n",
    "        df_file = pd.DataFrame()\n",
    "        df_file['file'] = files\n",
    "        df_file.to_csv(\"./temp/temperature_files.txt\",index = False)\n",
    "        for file in files:\n",
    "            if file[-5:]==\".tdms\":\n",
    "                filename = file[:-5]\n",
    "                file_read = dir_file+filename+suffix\n",
    "                file_save = dir_save+filename+\".csv\"\n",
    "\n",
    "                try:\n",
    "                    # read file\n",
    "                    tdms_file = tdms.TdmsFile(file_read)\n",
    "                    # transform tdms into dataframe\n",
    "                    df = tdms_file.as_dataframe()\n",
    "                    # change the columns name\n",
    "                    try:\n",
    "                        df.columns = [\"time\",\"Tbase_Cu\",\"Tsink_IGBT3_2\",\"Tsink_IGBT3_1\",\"Tj_IGBT3_2\",\"Tj_IGBT3_1\"]\n",
    "                    except:\n",
    "                        df.columns = [\"time\",\"Tbase_Cu\",\"Tsink_IGBT3_2\",\"Tsink_IGBT3_1\",\"Tj_IGBT3_2\",\"Tj_IGBT3_1\",\n",
    "                                      \"Tsink_IGBT4_2\",\"Tsink_IGBT4_1\",\"Tj_IGBT4_1\"]\n",
    "                    # drop some nansense columns\n",
    "                    try:\n",
    "                        df.dropna(axis = 0,inplace = True)\n",
    "                    except:\n",
    "                        pass\n",
    "                    # transform the string time into timestamp\n",
    "                    timestamp = []\n",
    "                    for t in df.time:\n",
    "                        if t != \"\":\n",
    "                            timestamp.append(time.mktime(time.strptime(t[0:-7],\"%Y/%m/%dT%H:%M:%S\"))+ float(t[-7:]))\n",
    "                        else:\n",
    "                            timestamp.append(0)\n",
    "                    df[\"timestamp\" ]= timestamp\n",
    "                    df[\"timestamp\"].replace(0,np.NaN,inplace = True)\n",
    "                    # save file\n",
    "                    df.to_csv(file_save)\n",
    "\n",
    "                except:\n",
    "                    print(file)\n",
    "                    pass"
   ]
  },
  {
   "cell_type": "markdown",
   "metadata": {},
   "source": [
    "## merge temperature and voltage data on time "
   ]
  },
  {
   "cell_type": "code",
   "execution_count": null,
   "metadata": {},
   "outputs": [],
   "source": [
    "if IS_MERGE:\n",
    "    dir_temp = \"./temperature_csv/phase2/\" \n",
    "    dir_volt = \"./voltage_current_csv/phase2/\" \n",
    "    prefix_temp = \"Temperature-\"\n",
    "    prefix_volt = \"Voltage-Current-\"\n",
    "    time_str = \"2019-12-09T17-58-55\"\n",
    "    suffix = \".csv\"\n",
    "\n",
    "    file_err = []\n",
    "    for (_,_,files) in os.walk(dir_volt):\n",
    "        for file in files:\n",
    "            time_str = file[-23:-4]\n",
    "            # read file\n",
    "            try:\n",
    "                file_temp = dir_temp+prefix_temp+time_str+suffix\n",
    "                file_volt = dir_volt+prefix_volt+time_str+suffix\n",
    "                volt_df = pd.read_csv(file_volt,index_col = 0)\n",
    "                temp_df = pd.read_csv(file_temp,index_col = 0)\n",
    "            except:\n",
    "                print(\"read error: \",time_str)\n",
    "                file_err.append(file)\n",
    "\n",
    "            try:\n",
    "                # 去除不规整的volt数据\n",
    "                select_df = volt_df.dropna(axis = 0)\n",
    "                l = select_df.index.values\n",
    "                m= np.where(l[1:]-l[:-1]==51)\n",
    "                volt_df = volt_df.loc[l[m[0][0]]:,:]\n",
    "            except:\n",
    "                print(\"select error: \",time_str)\n",
    "                file_err.append(file)\n",
    "\n",
    "            try:\n",
    "                # 重新定义时间\n",
    "                volt_df[\"t\"] = volt_df[\"timestamp\"].round(1)\n",
    "                volt_df.drop([\"timestamp\",\"time\"],axis = 1,inplace = True )\n",
    "                temp_df[\"t\"] = temp_df[\"timestamp\"].round(1)\n",
    "                temp_df.drop([\"timestamp\",\"time\"],axis = 1,inplace = True )\n",
    "            except:\n",
    "                print(\"def t error: \",time_str)\n",
    "                file_err.append(file)\n",
    "\n",
    "            try:\n",
    "                # merge temp to voltage\n",
    "                merge_df = pd.merge(volt_df,temp_df,on = \"t\", how = \"left\")\n",
    "                # save\n",
    "                merge_df.to_csv(file_volt,index = False)\n",
    "                # merge voltage to temperature\n",
    "                merge_df = pd.merge(temp_df,volt_df,on = \"t\", how = \"left\")\n",
    "                # save\n",
    "                merge_df.to_csv(file_temp,index = False)\n",
    "            except:\n",
    "                print(\"merge error: \",time_str)\n",
    "                file_err.append(file)\n",
    "\n",
    "    err_file_df = pd.DataFrame()\n",
    "    err_file_df[\"file\"] = file_err\n",
    "    err_file_df.to_csv(\"./temp/error_files.txt\",index = False)"
   ]
  },
  {
   "cell_type": "markdown",
   "metadata": {},
   "source": [
    "# cut into cycle"
   ]
  },
  {
   "cell_type": "code",
   "execution_count": null,
   "metadata": {},
   "outputs": [],
   "source": [
    "if IS_CUT:\n",
    "    # cut voltage file into cycles\n",
    "    dir_volt = \"./voltage_current_csv/phase2/\" \n",
    "    dir_save = \"./voltage_current_cycle/phase2/\"\n",
    "    prefix_volt = \"Voltage-Current-\"\n",
    "#     time_str = \"2019-12-09T17-58-55\"\n",
    "    suffix = \".csv\"\n",
    "\n",
    "    n_round = 0\n",
    "    for (_,_,files) in os.walk(dir_volt):\n",
    "        for file in files:\n",
    "            time_str = file[-23:-4]\n",
    "            try:\n",
    "                # read file\n",
    "                file_volt = dir_volt+prefix_volt+time_str+suffix\n",
    "                volt_df = pd.read_csv(file_volt)\n",
    "                # get index of max T and min T\n",
    "                select_df = volt_df.dropna(inplace = False)\n",
    "                l = select_df[\"Tj_IGBT3_1\"].values\n",
    "                l[1:-1] = (l[:-2]+l[1:-1]+l[2:])/3\n",
    "                ix = select_df.index.values  # index of temp\n",
    "                m = l[1:]-l[:-1]> 0\n",
    "                m = m.astype(np.int8)\n",
    "                n = m[1:]-m[:-1]\n",
    "                n = np.insert(n,0,values = 1)\n",
    "                n = np.append(n,values = 1)  # 1 0 0 0 -1 0 0 1 0 0 -1 0 0 1 //the same size as ix\n",
    "                i_Tmax = np.where(n==-1)[0]  # \n",
    "                i_Tmin = np.where(n==1)[0]\n",
    "\n",
    "                # cut and save\n",
    "                for i in range(len(i_Tmax)):\n",
    "                    n_round += 1\n",
    "                    dur = i_Tmin[i+1]-i_Tmin[i]\n",
    "                    Tmax = l[i_Tmax[i]]\n",
    "                    Tmin1 = l[i_Tmin[i]]\n",
    "                    Tmin2 = l[i_Tmin[i+1]]\n",
    "                #     print(n_round,dur,Tmax,Tmin1,Tmin2)\n",
    "                    df = volt_df.loc[ix[i_Tmin[i]+1]:ix[i_Tmin[i+1]],:]\n",
    "                    t = np.around(df.t.values[0],decimals = -1)\n",
    "                    filename = str(n_round)+\"-\"+str(int(dur))+\"-\"+str(int(Tmin1))+\"-\"+str(int(Tmax))+\"-\"+str(int(Tmin2))+\"-\"+str(int(t))\n",
    "                    df.to_csv(dir_save+filename+\".csv\",index = False)\n",
    "            except:\n",
    "                print(time_str)\n",
    "\n"
   ]
  },
  {
   "cell_type": "code",
   "execution_count": null,
   "metadata": {},
   "outputs": [],
   "source": [
    "from myMedFilter import *\n",
    "if IS_CUT:\n",
    "    dir_temp = \"./temperature_csv/phase2/\" \n",
    "    dir_save = \"./temperature_cycle/phase2/\"\n",
    "    prefix_temp = \"Temperature-\"\n",
    "    # time_str = \"2019-12-09T17-58-55\"\n",
    "    suffix = \".csv\"\n",
    "\n",
    "    n_round = 0\n",
    "    for (_,_,files) in os.walk(dir_volt):\n",
    "        for file in files:\n",
    "            time_str = file[-23:-4]\n",
    "            try:\n",
    "                # read file\n",
    "                file_volt = dir_temp+prefix_temp+time_str+suffix\n",
    "                volt_df = pd.read_csv(file_volt)\n",
    "                # get index of max T and min T\n",
    "    #             select_df = volt_df.dropna(inplace = False)\n",
    "                l = volt_df[\"Tj_IGBT3_1\"].values\n",
    "                l[1:-1] = (l[:-2]+l[1:-1]+l[2:])/3\n",
    "                l = myMedFilter(l)\n",
    "                ix = volt_df.index.values\n",
    "                m = l[1:]-l[:-1]> 0\n",
    "                m = m.astype(np.int8)\n",
    "                n = m[1:]-m[:-1]\n",
    "                n = np.insert(n,0,values = 1)\n",
    "                n = np.append(n,values = 1)\n",
    "                i_Tmax = np.where(n==-1)[0]\n",
    "                i_Tmin = np.where(n==1)[0]\n",
    "\n",
    "                # cut and save\n",
    "                for i in range(len(i_Tmax)):\n",
    "                    n_round += 1\n",
    "                    dur = (i_Tmin[i+1]-i_Tmin[i])/10\n",
    "                    Tmax = l[i_Tmax[i]]\n",
    "                    Tmin1 = l[i_Tmin[i]]\n",
    "                    Tmin2 = l[i_Tmin[i+1]]\n",
    "                #     print(n_round,dur,Tmax,Tmin1,Tmin2)\n",
    "                    df = volt_df.loc[ix[i_Tmin[i]+1]:ix[i_Tmin[i+1]],:]\n",
    "                    t = np.around(df.t.values[0],decimals = -1)\n",
    "                    filename = str(n_round)+\"-\"+str(int(dur))+\"-\"+str(int(Tmin1))+\"-\"+str(int(Tmax))+\"-\"+str(int(Tmin2))+\"-\"+str(int(t))\n",
    "                    df.to_csv(dir_save+filename+\".csv\",index = False)\n",
    "            except:\n",
    "                print(time_str)\n",
    "\n"
   ]
  },
  {
   "cell_type": "markdown",
   "metadata": {},
   "source": [
    "# collect Temperature info to choose useful csv"
   ]
  },
  {
   "cell_type": "code",
   "execution_count": null,
   "metadata": {},
   "outputs": [],
   "source": [
    "a + + + "
   ]
  },
  {
   "cell_type": "code",
   "execution_count": null,
   "metadata": {},
   "outputs": [],
   "source": [
    "# collect all temperature data\n",
    "dir_temp = \"./temperature_cycle/\" \n",
    "suffix = \".csv\"\n",
    "\n",
    "all_df = pd.DataFrame(columns = [\"round\",\"dur_second\",\"T_min1\",\"T_max\",\"T_min2\"])\n",
    "for (_,_,files) in os.walk(dir_temp):\n",
    "    for file in files:\n",
    "        try:\n",
    "            l = file[:-4].split(\"-\")\n",
    "            l = [i for i in l if i!=\"\"]\n",
    "            l = np.array([int(i) for i in l]).reshape(1,5)\n",
    "            df = pd.DataFrame(l, columns = [\"round\",\"dur_second\",\"T_min1\",\"T_max\",\"T_min2\"])\n",
    "            all_df = pd.concat([all_df,df],axis = 0)\n",
    "        except:\n",
    "            print(file)\n",
    "\n",
    "all_df.sort_values(by = 'round',inplace = True)\n",
    "all_df.to_csv(\"./temp/all_temp_info.csv\",index = False)    \n",
    "print(all_df.shape)\n",
    "all_df.head()    "
   ]
  },
  {
   "cell_type": "code",
   "execution_count": null,
   "metadata": {},
   "outputs": [],
   "source": [
    "# choose useful cycles\n",
    "# read csv\n",
    "all_df  = pd.read_csv(\"./temp/all_temp_info.csv\")\n",
    "print(\"raw shape:\",all_df.shape)\n",
    "\n",
    "# culculate delta\n",
    "all_df['T_delta1'] = all_df['T_max']-all_df['T_min1']\n",
    "all_df['T_delta2'] = all_df['T_max']-all_df['T_min2']\n",
    "\n",
    "# delete some error data\n",
    "all_df = all_df.loc[all_df['T_max'].values<180,:]\n",
    "all_df = all_df.loc[all_df['T_min1'].values>10,:]\n",
    "all_df = all_df.loc[all_df['T_min2'].values>10,:]\n",
    "print(\"shape after delete error:\",all_df.shape)\n",
    "\n",
    "# select the useful data\n",
    "# Tmax [160,175]\n",
    "# Tmin1 [80,100]\n",
    "# Tmin2 [80,100]\n",
    "# Tdelta1 [65,95]\n",
    "# Tdelta2 [65,95]\n",
    "# during time > 25 second\n",
    "s = np.all( [all_df['T_max'].values > 168, all_df['T_max'].values <178,\n",
    "             all_df['T_min1'].values > 83, all_df['T_min1'].values < 92,\n",
    "             all_df['T_min2'].values > 83, all_df['T_min2'].values < 92,\n",
    "#              all_df['T_delta1'].values > 65, all_df['T_delta1'].values <95,\n",
    "            ],\n",
    "           axis = 0)\n",
    "all_df = all_df.loc[ s,:]\n",
    "all_df.to_csv(\"./temp/all_useful_df.csv\")\n",
    "print(\"shape of useful data:\",all_df.shape)\n",
    "all_df.head()"
   ]
  },
  {
   "cell_type": "code",
   "execution_count": null,
   "metadata": {},
   "outputs": [],
   "source": [
    "# choose IGBT3_1 data only\n",
    "all_df = pd.read_csv(\"./temp/all_useful_df.csv\")\n",
    "\n",
    "save_temp = \"./temperature_IGBT3_1/\" \n",
    "dir_temp  = \"./temperature_cycle/\" \n",
    "suffix = \".csv\"\n",
    "str_info = \"15-40-86-165-94\"\n",
    "\n",
    "for i in range(all_df.shape[0]):\n",
    "    str_info = str(all_df['round'].values[i])+ \"-\"+ str(all_df['dur_second'].values[i])+ \"-\" +str(all_df['T_min1'].values[i])+ \"-\" +str(all_df['T_max'].values[i])+ \"-\"+ str(all_df['T_min2'].values[i])\n",
    "    filename = dir_temp+ str_info +suffix\n",
    "    try:\n",
    "        temp_df  = pd.read_csv(filename)\n",
    "        temp_df = temp_df.loc[:,[\"Tbase_Cu\",\"Tsink_IGBT3_1\",\"Tj_IGBT3_1\",\"t\",\"Ic\",\"Uce\",\"Power\",\"dT_IGBT3_1\",\"Rth_IGBT3_1\"]]\n",
    "        temp_df.to_csv(save_temp+ str_info +suffix, index = False)\n",
    "    except:\n",
    "        print(filename)\n",
    "        "
   ]
  },
  {
   "cell_type": "code",
   "execution_count": null,
   "metadata": {},
   "outputs": [],
   "source": [
    "# extract the voltage and temperature info\n",
    "all_df = pd.read_csv(\"./temp/all_useful_df.csv\")\n",
    "\n",
    "dir_temp  = \"./temperature_IGBT3_1/\" \n",
    "suffix = \".csv\"\n",
    "str_info = \"15-40-86-165-94\"\n",
    "\n",
    "df = pd.DataFrame()\n",
    "for i in range(all_df.shape[0]):\n",
    "    str_info = str(all_df['round'].values[i])+ \"-\"+ str(all_df['dur_second'].values[i])+ \"-\" +str(all_df['T_min1'].values[i])+ \"-\" +str(all_df['T_max'].values[i])+ \"-\"+ str(all_df['T_min2'].values[i])\n",
    "    filename = dir_temp+ str_info +suffix\n",
    "    try:\n",
    "        temp_df  = pd.read_csv(filename)\n",
    "        temp_df.dropna(axis = 0,subset={\"Uce\"},inplace=True)\n",
    "        df  = pd.concat([df,temp_df],axis = 0)\n",
    "    except:\n",
    "        print(filename)\n",
    "# choose Uce > 1 which means IGBT turns on \n",
    "df = df.loc[df.Uce.values<1.0,:]\n",
    "df.to_csv(\"./temp/all_T_U_I.csv\",index = False)\n",
    "print(df.shape)\n",
    "df.head()"
   ]
  },
  {
   "cell_type": "code",
   "execution_count": null,
   "metadata": {},
   "outputs": [],
   "source": [
    "from fit_units import *\n",
    "from extract_features import *\n",
    "\n",
    "df = pd.read_csv(\"./temp/all_T_U_I.csv\")\n",
    "df = fit_units(df)\n",
    "df = extract_features(df)\n",
    "df.to_csv(\"./temp/all_T_U_I.csv\",index = False)\n",
    "print(df.shape)\n",
    "df.head()"
   ]
  },
  {
   "cell_type": "code",
   "execution_count": null,
   "metadata": {},
   "outputs": [],
   "source": [
    "temp1 = 160\n",
    "def choose_data_by_Tj(df, Tj , span = 2):\n",
    "    df = df.loc[df.Tj_IGBT3_1.values> Tj-span, :]\n",
    "    df = df.loc[df.Tj_IGBT3_1.values< Tj+span, :]\n",
    "    return df\n",
    "\n",
    "df_t = choose_data_by_Tj(df, temp1, 1)\n",
    "print(df_t.shape)\n",
    "# df_t.head()\n",
    "plt.clf()\n",
    "plt.figure()\n",
    "plt.plot(df_t.Uce.values)\n",
    "plt.show()"
   ]
  },
  {
   "cell_type": "code",
   "execution_count": null,
   "metadata": {},
   "outputs": [],
   "source": [
    "plt.clf()\n",
    "plt.figure()\n",
    "plt.plot(df_t.Ic.values)\n",
    "plt.show()"
   ]
  },
  {
   "cell_type": "code",
   "execution_count": null,
   "metadata": {},
   "outputs": [],
   "source": [
    "plt.clf()\n",
    "plt.figure()\n",
    "plt.plot(df_t.t.values)\n",
    "plt.show()"
   ]
  },
  {
   "cell_type": "code",
   "execution_count": null,
   "metadata": {
    "scrolled": true
   },
   "outputs": [],
   "source": [
    "df_t.head(20)"
   ]
  },
  {
   "cell_type": "code",
   "execution_count": null,
   "metadata": {},
   "outputs": [],
   "source": [
    "df_t.iloc[np.argmax(df_t.Ic.values,axis = 0),:].t"
   ]
  },
  {
   "cell_type": "code",
   "execution_count": null,
   "metadata": {},
   "outputs": [],
   "source": [
    "t_base = \"2019/10/01 00:00:00\"\n",
    "stamp_base = time.mktime(time.strptime(t_base,\"%Y/%m/%d %H:%M:%S\"))\n",
    "stamp1 = 8004869 + stamp_base\n",
    "time.strftime('%Y/%m/%d %H:%M:%S',time.localtime(stamp1))"
   ]
  },
  {
   "cell_type": "code",
   "execution_count": null,
   "metadata": {},
   "outputs": [],
   "source": []
  },
  {
   "cell_type": "code",
   "execution_count": null,
   "metadata": {},
   "outputs": [],
   "source": []
  },
  {
   "cell_type": "code",
   "execution_count": null,
   "metadata": {},
   "outputs": [],
   "source": []
  },
  {
   "cell_type": "code",
   "execution_count": null,
   "metadata": {},
   "outputs": [],
   "source": []
  },
  {
   "cell_type": "code",
   "execution_count": null,
   "metadata": {},
   "outputs": [],
   "source": []
  },
  {
   "cell_type": "code",
   "execution_count": null,
   "metadata": {},
   "outputs": [],
   "source": []
  },
  {
   "cell_type": "code",
   "execution_count": null,
   "metadata": {},
   "outputs": [],
   "source": []
  },
  {
   "cell_type": "code",
   "execution_count": null,
   "metadata": {},
   "outputs": [],
   "source": []
  },
  {
   "cell_type": "code",
   "execution_count": null,
   "metadata": {},
   "outputs": [],
   "source": []
  },
  {
   "cell_type": "code",
   "execution_count": null,
   "metadata": {},
   "outputs": [],
   "source": []
  },
  {
   "cell_type": "code",
   "execution_count": null,
   "metadata": {},
   "outputs": [],
   "source": []
  },
  {
   "cell_type": "code",
   "execution_count": null,
   "metadata": {},
   "outputs": [],
   "source": []
  },
  {
   "cell_type": "code",
   "execution_count": null,
   "metadata": {},
   "outputs": [],
   "source": []
  },
  {
   "cell_type": "code",
   "execution_count": null,
   "metadata": {},
   "outputs": [],
   "source": []
  },
  {
   "cell_type": "code",
   "execution_count": null,
   "metadata": {},
   "outputs": [],
   "source": []
  },
  {
   "cell_type": "code",
   "execution_count": null,
   "metadata": {},
   "outputs": [],
   "source": []
  },
  {
   "cell_type": "code",
   "execution_count": null,
   "metadata": {},
   "outputs": [],
   "source": []
  },
  {
   "cell_type": "code",
   "execution_count": null,
   "metadata": {},
   "outputs": [],
   "source": []
  },
  {
   "cell_type": "code",
   "execution_count": null,
   "metadata": {},
   "outputs": [],
   "source": []
  },
  {
   "cell_type": "code",
   "execution_count": null,
   "metadata": {},
   "outputs": [],
   "source": []
  },
  {
   "cell_type": "code",
   "execution_count": null,
   "metadata": {},
   "outputs": [],
   "source": []
  },
  {
   "cell_type": "code",
   "execution_count": null,
   "metadata": {},
   "outputs": [],
   "source": []
  }
 ],
 "metadata": {
  "kernelspec": {
   "display_name": "tf-torch-gpu-p36",
   "language": "python",
   "name": "tf-torch-gpu-p36"
  },
  "language_info": {
   "codemirror_mode": {
    "name": "ipython",
    "version": 3
   },
   "file_extension": ".py",
   "mimetype": "text/x-python",
   "name": "python",
   "nbconvert_exporter": "python",
   "pygments_lexer": "ipython3",
   "version": "3.6.2"
  }
 },
 "nbformat": 4,
 "nbformat_minor": 2
}
